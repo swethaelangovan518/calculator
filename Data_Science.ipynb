{
  "cells": [
    {
      "cell_type": "markdown",
      "metadata": {
        "id": "view-in-github",
        "colab_type": "text"
      },
      "source": [
        "<a href=\"https://colab.research.google.com/github/swethaelangovan518/calculator/blob/main/Data_Science.ipynb\" target=\"_parent\"><img src=\"https://colab.research.google.com/assets/colab-badge.svg\" alt=\"Open In Colab\"/></a>"
      ]
    },
    {
      "cell_type": "code",
      "source": [
        "#create a list\n",
        "fruits=['apple','banana','mango']\n",
        "print(fruits)"
      ],
      "metadata": {
        "colab": {
          "base_uri": "https://localhost:8080/"
        },
        "id": "-pGcXTkfkys6",
        "outputId": "162c4ead-f03d-4584-be66-9ddb62c44c54"
      },
      "execution_count": 1,
      "outputs": [
        {
          "output_type": "stream",
          "name": "stdout",
          "text": [
            "['apple', 'banana', 'mango']\n"
          ]
        }
      ]
    },
    {
      "cell_type": "code",
      "source": [
        "#append\n",
        "fruits.append(\"orange\")\n",
        "print(fruits)"
      ],
      "metadata": {
        "colab": {
          "base_uri": "https://localhost:8080/"
        },
        "id": "qb60JXutmMZa",
        "outputId": "240ba20c-b4b4-4781-bd63-682730088e36"
      },
      "execution_count": 5,
      "outputs": [
        {
          "output_type": "stream",
          "name": "stdout",
          "text": [
            "['apple', 'banana', 'mango', 'orange', 'orange']\n"
          ]
        }
      ]
    },
    {
      "cell_type": "code",
      "source": [
        "#extend\n",
        "fruits.extend([\"pineapple\",\"grapes\"])\n",
        "print(fruits)"
      ],
      "metadata": {
        "colab": {
          "base_uri": "https://localhost:8080/"
        },
        "id": "HScRFuXRmmoL",
        "outputId": "aa7fd1db-2a5d-441a-8dc5-69712ea22c03"
      },
      "execution_count": 7,
      "outputs": [
        {
          "output_type": "stream",
          "name": "stdout",
          "text": [
            "['apple', 'banana', 'mango', 'orange', 'orange', 'pineapple', 'grapes']\n"
          ]
        }
      ]
    },
    {
      "cell_type": "code",
      "source": [
        "#Remove\n",
        "fruits.remove(\"apple\")\n",
        "print(fruits)"
      ],
      "metadata": {
        "colab": {
          "base_uri": "https://localhost:8080/"
        },
        "id": "VV1ZVGHtm89l",
        "outputId": "c6b48f7a-0ab8-480d-be15-a260e6398c71"
      },
      "execution_count": 9,
      "outputs": [
        {
          "output_type": "stream",
          "name": "stdout",
          "text": [
            "['banana', 'mango', 'orange', 'orange', 'pineapple', 'grapes']\n"
          ]
        }
      ]
    },
    {
      "cell_type": "code",
      "source": [
        "#removes last element and written it\n",
        "last_item=fruits.pop()\n",
        "print(last_item)"
      ],
      "metadata": {
        "colab": {
          "base_uri": "https://localhost:8080/"
        },
        "id": "P4bUw0xfrjLy",
        "outputId": "14d07510-b927-4265-8142-09f46445c5a3"
      },
      "execution_count": 10,
      "outputs": [
        {
          "output_type": "stream",
          "name": "stdout",
          "text": [
            "grapes\n"
          ]
        }
      ]
    },
    {
      "cell_type": "code",
      "source": [
        "#returns the index of the value\n",
        "pos=fruits.index(\"banana\")\n",
        "print(pos)"
      ],
      "metadata": {
        "colab": {
          "base_uri": "https://localhost:8080/"
        },
        "id": "JeVEP8v4rsB0",
        "outputId": "126c7313-47d2-42e2-f4b5-5ac874627543"
      },
      "execution_count": 11,
      "outputs": [
        {
          "output_type": "stream",
          "name": "stdout",
          "text": [
            "0\n"
          ]
        }
      ]
    },
    {
      "cell_type": "code",
      "source": [
        "#find the position of the item\n",
        "pos=fruits.index(\"mango\")\n",
        "print(pos)"
      ],
      "metadata": {
        "colab": {
          "base_uri": "https://localhost:8080/"
        },
        "id": "zYT-YJdJr5fk",
        "outputId": "54faa22d-ed8d-4f74-89bc-25250dbffc26"
      },
      "execution_count": 12,
      "outputs": [
        {
          "output_type": "stream",
          "name": "stdout",
          "text": [
            "1\n"
          ]
        }
      ]
    },
    {
      "cell_type": "code",
      "source": [
        "#Slicing (get the postion od the list)\n",
        "print(fruits[1:3])"
      ],
      "metadata": {
        "colab": {
          "base_uri": "https://localhost:8080/"
        },
        "id": "MWmqUQygseK8",
        "outputId": "d7aa1711-0da7-48be-9aa0-f9383d8e5df7"
      },
      "execution_count": 13,
      "outputs": [
        {
          "output_type": "stream",
          "name": "stdout",
          "text": [
            "['mango', 'orange']\n"
          ]
        }
      ]
    },
    {
      "cell_type": "code",
      "source": [
        "#sort (Arrange in asscending order)\n",
        "num=[5,4,6,8,2]\n",
        "num.sort()\n",
        "print(num)"
      ],
      "metadata": {
        "colab": {
          "base_uri": "https://localhost:8080/"
        },
        "id": "Otce2rtKsy2R",
        "outputId": "92583976-b31b-40c4-cb5b-6094243e33de"
      },
      "execution_count": 14,
      "outputs": [
        {
          "output_type": "stream",
          "name": "stdout",
          "text": [
            "[2, 4, 5, 6, 8]\n"
          ]
        }
      ]
    },
    {
      "cell_type": "code",
      "source": [
        "#Reverse\n",
        "num.reverse()\n",
        "print(num)"
      ],
      "metadata": {
        "colab": {
          "base_uri": "https://localhost:8080/"
        },
        "id": "o8pwNbS4tFVY",
        "outputId": "48033042-5a6e-417c-a38c-2617bcb40377"
      },
      "execution_count": 15,
      "outputs": [
        {
          "output_type": "stream",
          "name": "stdout",
          "text": [
            "[8, 6, 5, 4, 2]\n"
          ]
        }
      ]
    },
    {
      "cell_type": "code",
      "source": [
        "#length\n",
        "print(len(fruits))\n"
      ],
      "metadata": {
        "colab": {
          "base_uri": "https://localhost:8080/"
        },
        "id": "_m0d6BhBtSG9",
        "outputId": "457b043b-99bd-442b-e45e-ec6c2dbfe99c"
      },
      "execution_count": 16,
      "outputs": [
        {
          "output_type": "stream",
          "name": "stdout",
          "text": [
            "5\n"
          ]
        }
      ]
    },
    {
      "cell_type": "code",
      "source": [
        "#Sum(only if the list contains list)\n",
        "scores=[80,50,60]\n",
        "total=sum(scores)\n",
        "print(total)"
      ],
      "metadata": {
        "colab": {
          "base_uri": "https://localhost:8080/"
        },
        "id": "ZDaNwHCNtaSW",
        "outputId": "a0643966-c00d-4f00-bdc7-432a37c0c43b"
      },
      "execution_count": 17,
      "outputs": [
        {
          "output_type": "stream",
          "name": "stdout",
          "text": [
            "190\n"
          ]
        }
      ]
    },
    {
      "cell_type": "code",
      "source": [
        "# list comprehension\n",
        "squares=[x**2 for x in range(1,6)]\n",
        "print(squares)"
      ],
      "metadata": {
        "colab": {
          "base_uri": "https://localhost:8080/"
        },
        "id": "LgZegjU0ttc7",
        "outputId": "2180dbdb-3468-4695-f0cd-8167fafa7efd"
      },
      "execution_count": 18,
      "outputs": [
        {
          "output_type": "stream",
          "name": "stdout",
          "text": [
            "[1, 4, 9, 16, 25]\n"
          ]
        }
      ]
    },
    {
      "cell_type": "code",
      "source": [
        "#Integer\n",
        "students_in_class=45\n",
        "print(\"Total stuudents:\",students_in_class)"
      ],
      "metadata": {
        "colab": {
          "base_uri": "https://localhost:8080/"
        },
        "id": "-xzQtx4ot9wZ",
        "outputId": "24a6c993-6509-42e4-a4ce-9c228b765d5f"
      },
      "execution_count": 19,
      "outputs": [
        {
          "output_type": "stream",
          "name": "stdout",
          "text": [
            "Total stuudents: 45\n"
          ]
        }
      ]
    },
    {
      "cell_type": "code",
      "source": [
        "#Float\n",
        "product=245.566\n",
        "discount=0.1\n",
        "final_price=product*(1-discount)\n",
        "print(\"Final price:\",final_price)"
      ],
      "metadata": {
        "colab": {
          "base_uri": "https://localhost:8080/"
        },
        "id": "-pQvd86HxSba",
        "outputId": "a840b8ae-e396-4cce-f90d-bf23c176d03c"
      },
      "execution_count": 20,
      "outputs": [
        {
          "output_type": "stream",
          "name": "stdout",
          "text": [
            "Final price: 221.0094\n"
          ]
        }
      ]
    },
    {
      "cell_type": "code",
      "source": [
        "#Complex\n",
        "impedancee=4+5j\n",
        "print(\"Impedance:\",impedancee)"
      ],
      "metadata": {
        "colab": {
          "base_uri": "https://localhost:8080/"
        },
        "id": "IQnID5-sxmey",
        "outputId": "4af12d60-6c39-42d6-88f6-c0e34d369bd1"
      },
      "execution_count": 21,
      "outputs": [
        {
          "output_type": "stream",
          "name": "stdout",
          "text": [
            "Impedance: (4+5j)\n"
          ]
        }
      ]
    },
    {
      "cell_type": "code",
      "source": [
        "#Text type(string)\n",
        "username=\"alex234\"\n",
        "welcome_msg=f\"Welcome,{username}!\"\n",
        "print(welcome_msg)"
      ],
      "metadata": {
        "colab": {
          "base_uri": "https://localhost:8080/"
        },
        "id": "qE-dm4cBxwah",
        "outputId": "1e55251e-00ff-4e47-a28a-96014c7b49a1"
      },
      "execution_count": 22,
      "outputs": [
        {
          "output_type": "stream",
          "name": "stdout",
          "text": [
            "Welcome,alex234!\n"
          ]
        }
      ]
    },
    {
      "cell_type": "code",
      "source": [
        "#Boolean\n",
        "marks=78\n",
        "is_passed=marks>50\n",
        "print(\"Is passed:\",is_passed)"
      ],
      "metadata": {
        "colab": {
          "base_uri": "https://localhost:8080/"
        },
        "id": "iRz3kFrPyqGT",
        "outputId": "0ed63806-17bb-4bb2-d255-94a09e1cedbe"
      },
      "execution_count": 26,
      "outputs": [
        {
          "output_type": "stream",
          "name": "stdout",
          "text": [
            "Is passed: True\n"
          ]
        }
      ]
    },
    {
      "cell_type": "code",
      "source": [
        "#Sequence Type\n",
        "cart_items=[\"apple\",\"banana\",\"orange\"]\n",
        "print(\"Cart items:\",cart_items)"
      ],
      "metadata": {
        "colab": {
          "base_uri": "https://localhost:8080/"
        },
        "id": "xdiZOIR4y0Bw",
        "outputId": "c0ffc195-55bc-4340-ca8f-a8d52137e3f2"
      },
      "execution_count": 27,
      "outputs": [
        {
          "output_type": "stream",
          "name": "stdout",
          "text": [
            "Cart items: ['apple', 'banana', 'orange']\n"
          ]
        }
      ]
    },
    {
      "cell_type": "code",
      "source": [
        "#Location\n",
        "location=(40.7128,-74.0060)\n",
        "print(\"Location:\",location)"
      ],
      "metadata": {
        "colab": {
          "base_uri": "https://localhost:8080/"
        },
        "id": "aMe2ZJn5zIR9",
        "outputId": "8836028d-18db-4311-9587-e418a47a3508"
      },
      "execution_count": 28,
      "outputs": [
        {
          "output_type": "stream",
          "name": "stdout",
          "text": [
            "Location: (40.7128, -74.006)\n"
          ]
        }
      ]
    },
    {
      "cell_type": "code",
      "source": [
        "#Range\n",
        "for roll_no in range(1,11):\n",
        "    print(\"Roll number:\",roll_no)"
      ],
      "metadata": {
        "colab": {
          "base_uri": "https://localhost:8080/"
        },
        "id": "A-1FMqqezWpM",
        "outputId": "6257ca6a-c55d-4618-9ca6-91c907828dd6"
      },
      "execution_count": 29,
      "outputs": [
        {
          "output_type": "stream",
          "name": "stdout",
          "text": [
            "Roll number: 1\n",
            "Roll number: 2\n",
            "Roll number: 3\n",
            "Roll number: 4\n",
            "Roll number: 5\n",
            "Roll number: 6\n",
            "Roll number: 7\n",
            "Roll number: 8\n",
            "Roll number: 9\n",
            "Roll number: 10\n"
          ]
        }
      ]
    },
    {
      "cell_type": "code",
      "source": [
        "#Mapping\n",
        "employee={\"id\":101,\"name\":\"John\",\"salary\":50000}\n",
        "print(f\"{employee['name']} earns {employee['salary']} per month and her id is {employee['id']}\")"
      ],
      "metadata": {
        "colab": {
          "base_uri": "https://localhost:8080/"
        },
        "id": "wlM9PibM0wW_",
        "outputId": "1b25872e-fe89-4634-a93c-81c91dc5cea4"
      },
      "execution_count": 33,
      "outputs": [
        {
          "output_type": "stream",
          "name": "stdout",
          "text": [
            "John earns 50000 per month and her id is 101\n"
          ]
        }
      ]
    },
    {
      "cell_type": "code",
      "source": [
        "#set type\n",
        "language={\"Python\",\"Java\",\"Python\",\"C++\"}\n",
        "print(\"Language:\",language)"
      ],
      "metadata": {
        "colab": {
          "base_uri": "https://localhost:8080/"
        },
        "id": "TUQ2n-ZR1Lw-",
        "outputId": "a8b6c263-999f-4945-de05-134a7361cca5"
      },
      "execution_count": 34,
      "outputs": [
        {
          "output_type": "stream",
          "name": "stdout",
          "text": [
            "Language: {'Java', 'Python', 'C++'}\n"
          ]
        }
      ]
    },
    {
      "cell_type": "code",
      "source": [
        "#Frozen list\n",
        "vowels=frozenset(['a','e','i','o','u'])\n",
        "print(\"Vowels(unchanged):\",vowels)"
      ],
      "metadata": {
        "colab": {
          "base_uri": "https://localhost:8080/"
        },
        "id": "O76lr_d818uR",
        "outputId": "3e161e2b-548f-4149-e23e-d5db0a177228"
      },
      "execution_count": 36,
      "outputs": [
        {
          "output_type": "stream",
          "name": "stdout",
          "text": [
            "Vowels(unchanged): frozenset({'e', 'u', 'o', 'a', 'i'})\n"
          ]
        }
      ]
    },
    {
      "cell_type": "code",
      "source": [
        "#creating one dimensional array\n",
        "\n",
        "import numpy as np\n",
        "marks=np.array([34,56,78,90,67,99])\n",
        "print(\"Marks:\",marks)"
      ],
      "metadata": {
        "colab": {
          "base_uri": "https://localhost:8080/"
        },
        "id": "1F0ZArEF2bbo",
        "outputId": "94ba95cb-9502-455b-f54f-edf7efa2c2fe"
      },
      "execution_count": 37,
      "outputs": [
        {
          "output_type": "stream",
          "name": "stdout",
          "text": [
            "Marks: [34 56 78 90 67 99]\n"
          ]
        }
      ]
    },
    {
      "cell_type": "code",
      "source": [
        "#Creating two dimensional array\n",
        "\n",
        "matrix=np.array([[2,3],[4,5]])\n",
        "print(\"Matrix:\\n\",matrix)"
      ],
      "metadata": {
        "colab": {
          "base_uri": "https://localhost:8080/"
        },
        "id": "n0GCRbfF20Ul",
        "outputId": "30d900e8-a7b8-4c53-dcc8-ca255e091f57"
      },
      "execution_count": 39,
      "outputs": [
        {
          "output_type": "stream",
          "name": "stdout",
          "text": [
            "Matrix:\n",
            " [[2 3]\n",
            " [4 5]]\n"
          ]
        }
      ]
    },
    {
      "cell_type": "code",
      "source": [
        "#Accesing elements\n",
        "\n",
        "print(marks[1])\n",
        "print(matrix[1,0])"
      ],
      "metadata": {
        "colab": {
          "base_uri": "https://localhost:8080/"
        },
        "id": "NnL4INIh3YV3",
        "outputId": "56dc7806-1910-4175-adc0-b20a4eee6f43"
      },
      "execution_count": 41,
      "outputs": [
        {
          "output_type": "stream",
          "name": "stdout",
          "text": [
            "56\n",
            "4\n"
          ]
        }
      ]
    },
    {
      "cell_type": "code",
      "source": [
        "#Array properties\n",
        "\n",
        "print(\"Shape:\\n\",matrix.shape)\n",
        "print(\"Size:\",matrix.size)\n",
        "print(\"Data type:\",matrix.dtype)\n",
        "print(\"Dimension:\\n\",matrix)"
      ],
      "metadata": {
        "colab": {
          "base_uri": "https://localhost:8080/"
        },
        "id": "gghL69km3oqj",
        "outputId": "22196c2e-a4c9-497c-8c34-e072c9698313"
      },
      "execution_count": 42,
      "outputs": [
        {
          "output_type": "stream",
          "name": "stdout",
          "text": [
            "Shape:\n",
            " (2, 2)\n",
            "Size: 4\n",
            "Data type: int64\n",
            "Dimension:\n",
            " [[2 3]\n",
            " [4 5]]\n"
          ]
        }
      ]
    },
    {
      "cell_type": "code",
      "source": [
        "#Indexing\\slicing\n",
        "import numpy as np\n",
        "matrix=np.array([[2,3],[3,6]])\n",
        "print(matrix[1,1])\n",
        "print(matrix[:1])"
      ],
      "metadata": {
        "colab": {
          "base_uri": "https://localhost:8080/"
        },
        "id": "kWcl9QCm4N-a",
        "outputId": "0f75f60a-52c1-49cc-9eb8-b67bd784f2ec"
      },
      "execution_count": 45,
      "outputs": [
        {
          "output_type": "stream",
          "name": "stdout",
          "text": [
            "6\n",
            "[[2 3]]\n"
          ]
        }
      ]
    },
    {
      "cell_type": "code",
      "source": [
        "# Array of zeros ,ones and range\n",
        "\n",
        "zeros=np.zeros((2,3))\n",
        "ones=np.ones((2,4))\n",
        "range_array=np.arange(1,10,2)\n",
        "print(\"Zeros:\\n\",zeros)\n",
        "print(\"Ones:\\n\",ones)\n",
        "print(\"Range:\\n\",range_array)"
      ],
      "metadata": {
        "colab": {
          "base_uri": "https://localhost:8080/"
        },
        "id": "yi-6Y5zj5wgm",
        "outputId": "a907faf4-bc09-4b69-c497-26f58587d6fb"
      },
      "execution_count": 54,
      "outputs": [
        {
          "output_type": "stream",
          "name": "stdout",
          "text": [
            "Zeros:\n",
            " [[0. 0. 0.]\n",
            " [0. 0. 0.]]\n",
            "Ones:\n",
            " [[1. 1. 1. 1.]\n",
            " [1. 1. 1. 1.]]\n",
            "Range:\n",
            " [1 3 5 7 9]\n"
          ]
        }
      ]
    },
    {
      "cell_type": "code",
      "source": [
        "#Reshape an array\n",
        "\n",
        "arr=np.array([1,2,3,4,5,6])\n",
        "reshaped_arr=arr.reshape(2,3)\n",
        "print(\"Reshaped array:\\n\",reshaped_arr)"
      ],
      "metadata": {
        "colab": {
          "base_uri": "https://localhost:8080/"
        },
        "id": "elhwMfDr6Ltn",
        "outputId": "e8b601b6-1b8a-44bc-91b4-9640957d3263"
      },
      "execution_count": 55,
      "outputs": [
        {
          "output_type": "stream",
          "name": "stdout",
          "text": [
            "Reshaped array:\n",
            " [[1 2 3]\n",
            " [4 5 6]]\n"
          ]
        }
      ]
    },
    {
      "cell_type": "code",
      "source": [
        "eye=np.eye(3)\n",
        "linespace=np.linspace(0,1,5)\n",
        "print(\"Identity matrix:\\n\",eye)\n",
        "print(\"Linespace:\\n\",linespace)"
      ],
      "metadata": {
        "colab": {
          "base_uri": "https://localhost:8080/"
        },
        "id": "1SlcHgX97mrv",
        "outputId": "53f9f84f-8ba4-4471-ff8c-fba1ea1e0bec"
      },
      "execution_count": 57,
      "outputs": [
        {
          "output_type": "stream",
          "name": "stdout",
          "text": [
            "Identity matrix:\n",
            " [[1. 0. 0.]\n",
            " [0. 1. 0.]\n",
            " [0. 0. 1.]]\n",
            "Linespace:\n",
            " [0.   0.25 0.5  0.75 1.  ]\n"
          ]
        }
      ]
    },
    {
      "cell_type": "code",
      "source": [
        "#creating three dimensional array\n",
        "\n",
        "import numpy as np\n",
        "arr3d=np.array([[[1,2,3],[3,4,5]],[[4,5,6],[4,6,7]]])\n",
        "print(\"3D array:\\n\",arr3d)"
      ],
      "metadata": {
        "colab": {
          "base_uri": "https://localhost:8080/"
        },
        "id": "qlKtoAQW7uBj",
        "outputId": "1a08f9d7-c49e-4f18-ae31-62368e35ff98"
      },
      "execution_count": 59,
      "outputs": [
        {
          "output_type": "stream",
          "name": "stdout",
          "text": [
            "3D array:\n",
            " [[[1 2 3]\n",
            "  [3 4 5]]\n",
            "\n",
            " [[4 5 6]\n",
            "  [4 6 7]]]\n"
          ]
        }
      ]
    },
    {
      "cell_type": "code",
      "source": [
        "#Computstiona on Numpy Array\n",
        "\n",
        "# 1. Arithmetic operation\n",
        "\n",
        "import numpy as np\n",
        "a=np.array([10,20,30])\n",
        "b=np.array([1,2,3])\n",
        "print(a+b)\n",
        "print(a-b)\n",
        "print(a/b)\n",
        "print(a*b)"
      ],
      "metadata": {
        "colab": {
          "base_uri": "https://localhost:8080/"
        },
        "id": "ZLoViRIj84Gw",
        "outputId": "1d30b533-817e-4854-9128-a801d06294b7"
      },
      "execution_count": 60,
      "outputs": [
        {
          "output_type": "stream",
          "name": "stdout",
          "text": [
            "[11 22 33]\n",
            "[ 9 18 27]\n",
            "[10. 10. 10.]\n",
            "[10 40 90]\n"
          ]
        }
      ]
    },
    {
      "cell_type": "code",
      "source": [
        "\n",
        "# 2. Scalar Operations\n",
        "\n",
        "print(a*2)\n",
        "print(a+2)\n"
      ],
      "metadata": {
        "colab": {
          "base_uri": "https://localhost:8080/"
        },
        "id": "Q4ewDxjc9eIX",
        "outputId": "80384826-3cae-474c-d4e3-717513c3b22c"
      },
      "execution_count": 61,
      "outputs": [
        {
          "output_type": "stream",
          "name": "stdout",
          "text": [
            "[20 40 60]\n",
            "[12 22 32]\n"
          ]
        }
      ]
    },
    {
      "cell_type": "code",
      "source": [
        "# 3. Matrix multiplutation\n",
        "\n",
        "A=np.array([[1,2],[3,4]])\n",
        "B=np.array([[4,5],[4,7]])\n",
        "print(A)\n",
        "print(\"\\n\",B)\n",
        "\n",
        "\n",
        "# Element wise multiplution\n",
        "\n",
        "\n",
        "# print(A*B)\n",
        "\n",
        "print(np.dot(A,B))\n",
        "\n",
        "print(A@B)\n"
      ],
      "metadata": {
        "colab": {
          "base_uri": "https://localhost:8080/"
        },
        "id": "3bNFOidZBD8u",
        "outputId": "d8f7c5e4-5b2b-4df6-97bb-49227ffff6e1"
      },
      "execution_count": 65,
      "outputs": [
        {
          "output_type": "stream",
          "name": "stdout",
          "text": [
            "[[1 2]\n",
            " [3 4]]\n",
            "\n",
            " [[4 5]\n",
            " [4 7]]\n",
            "[[12 19]\n",
            " [28 43]]\n",
            "[[12 19]\n",
            " [28 43]]\n"
          ]
        }
      ]
    },
    {
      "cell_type": "code",
      "source": [
        "# comparison operation\n",
        "\n",
        "print(a>15)\n",
        "print(a==20)"
      ],
      "metadata": {
        "colab": {
          "base_uri": "https://localhost:8080/"
        },
        "id": "fKGU0Qu1BGZt",
        "outputId": "0f7a1a79-3214-4660-908d-bad8b4ae77e9"
      },
      "execution_count": 66,
      "outputs": [
        {
          "output_type": "stream",
          "name": "stdout",
          "text": [
            "[False  True  True]\n",
            "[False  True False]\n"
          ]
        }
      ]
    },
    {
      "cell_type": "code",
      "source": [
        "# 1. Mathematical Functions(Element wise)\n",
        "\n",
        "import numpy as np\n",
        "\n",
        "a=np.array([1,2,3,4,5,6])\n",
        "print(\"exp:\",np.exp(a))\n",
        "print(\"sqrt:\",np.sqrt(a))\n",
        "print(\"sin:\",np.sin(a))\n",
        "print(\"cos:\",np.cos(a))\n",
        "print(\"log:\",np.log(a))\n",
        "print(\"tan:\",np.tan(a))\n",
        "print(\"Radian:\",np.radians([180]))\n",
        "print(\"Degree:\",np.degrees([np.pi]))\n"
      ],
      "metadata": {
        "colab": {
          "base_uri": "https://localhost:8080/"
        },
        "id": "-Pli7wSIBVDD",
        "outputId": "0ae04e8d-72be-4468-c0af-e7cd0b3cca26"
      },
      "execution_count": 68,
      "outputs": [
        {
          "output_type": "stream",
          "name": "stdout",
          "text": [
            "exp: [  2.71828183   7.3890561   20.08553692  54.59815003 148.4131591\n",
            " 403.42879349]\n",
            "sqrt: [1.         1.41421356 1.73205081 2.         2.23606798 2.44948974]\n",
            "sin: [ 0.84147098  0.90929743  0.14112001 -0.7568025  -0.95892427 -0.2794155 ]\n",
            "cos: [ 0.54030231 -0.41614684 -0.9899925  -0.65364362  0.28366219  0.96017029]\n",
            "log: [0.         0.69314718 1.09861229 1.38629436 1.60943791 1.79175947]\n",
            "tan: [ 1.55740772 -2.18503986 -0.14254654  1.15782128 -3.38051501 -0.29100619]\n",
            "Radian: [3.14159265]\n",
            "Degree: [180.]\n"
          ]
        }
      ]
    },
    {
      "cell_type": "code",
      "source": [
        "# Binary operations\n",
        "\n",
        "x=np.array([1,2,3,4])\n",
        "y=np.array([3,4,5,7])\n",
        "print(\"add:\",np.add(x,y))\n",
        "print(\"subtract:\",np.subtract(x,y))\n",
        "print(\"multiply:\",np.multiply(x,y))\n",
        "print(\"divide:\",np.divide(x,y))\n",
        "print(\"mod:\",np.mod(x,y))\n",
        "print(\"power:\",np.power(x,y))\n",
        "print(\"maximum:\",np.maximum(x,y))\n",
        "print(\"minimum:\",np.minimum(x,y))\n"
      ],
      "metadata": {
        "id": "TkuTLVRLDkzN",
        "outputId": "c01f5ea1-fcf8-4e50-da37-6da546ad1602",
        "colab": {
          "base_uri": "https://localhost:8080/"
        }
      },
      "execution_count": 70,
      "outputs": [
        {
          "output_type": "stream",
          "name": "stdout",
          "text": [
            "add: [ 4  6  8 11]\n",
            "subtract: [-2 -2 -2 -3]\n",
            "multiply: [ 3  8 15 28]\n",
            "divide: [0.33333333 0.5        0.6        0.57142857]\n",
            "mod: [1 2 3 4]\n",
            "power: [    1    16   243 16384]\n",
            "maximum: [3 4 5 7]\n",
            "minimum: [1 2 3 4]\n"
          ]
        }
      ]
    },
    {
      "cell_type": "code",
      "source": [
        "# Rounding Function\n",
        "\n",
        "nums=np.array([1.2,2.4,3.8])\n",
        "print(\"floor:\",np.floor(nums))\n",
        "print(\"ceil:\",np.ceil(nums))\n",
        "print(\"round:\",np.round(nums))"
      ],
      "metadata": {
        "id": "WSESXeJtDvCJ",
        "outputId": "f7e81cb3-0f78-4fd8-84e1-d250a0004f48",
        "colab": {
          "base_uri": "https://localhost:8080/"
        }
      },
      "execution_count": 71,
      "outputs": [
        {
          "output_type": "stream",
          "name": "stdout",
          "text": [
            "floor: [1. 2. 3.]\n",
            "ceil: [2. 3. 4.]\n",
            "round: [1. 2. 4.]\n"
          ]
        }
      ]
    },
    {
      "cell_type": "code",
      "source": [
        "# Aggregation Functions\n",
        "\n",
        "data=np.array([20,30,40,50,60])\n",
        "print(\"sum:\",np.sum(data))\n",
        "print(\"mean:\",np.mean(data))\n",
        "print(\"median:\",np.median(data))\n",
        "print(\"standard deviation:\",np.std(data))\n",
        "print(\"variance:\",np.var(data))\n",
        "print(\"Min:\",np.min(data))\n",
        "print(\"Max:\",np.max(data))"
      ],
      "metadata": {
        "id": "ezjI5KMlENAv",
        "outputId": "b0a81d38-50e1-421d-eff3-510036d0f73a",
        "colab": {
          "base_uri": "https://localhost:8080/"
        }
      },
      "execution_count": 72,
      "outputs": [
        {
          "output_type": "stream",
          "name": "stdout",
          "text": [
            "sum: 200\n",
            "mean: 40.0\n",
            "median: 40.0\n",
            "standard deviation: 14.142135623730951\n",
            "variance: 200.0\n",
            "Min: 20\n",
            "Max: 60\n"
          ]
        }
      ]
    },
    {
      "cell_type": "code",
      "source": [
        "# Agrregration along axix\n",
        "\n",
        "matrix=np.array([[1,2,3],[4,5,6]])\n",
        "print(\"Sum along axis 0:\",np.sum(matrix,axis=0))\n",
        "print(\"Sum along axis 1:\",np.sum(matrix,axis=1))"
      ],
      "metadata": {
        "id": "6arTjBpZEor9",
        "outputId": "fe11b940-2400-4d36-ebd5-1fa1cd498589",
        "colab": {
          "base_uri": "https://localhost:8080/"
        }
      },
      "execution_count": 73,
      "outputs": [
        {
          "output_type": "stream",
          "name": "stdout",
          "text": [
            "Sum along axis 0: [5 7 9]\n",
            "Sum along axis 1: [ 6 15]\n"
          ]
        }
      ]
    },
    {
      "cell_type": "code",
      "source": [
        "# Using any() and all()\n",
        "\n",
        "bool_arr=np.array([True,False,True])\n",
        "print(\"Any True:\",np.any(bool_arr))\n",
        "print(\"All True:\",np.all(bool_arr))"
      ],
      "metadata": {
        "id": "5ZXoRc8QE6Zp",
        "outputId": "d4f575c6-b76b-41eb-9be1-1ad78947fd59",
        "colab": {
          "base_uri": "https://localhost:8080/"
        }
      },
      "execution_count": 74,
      "outputs": [
        {
          "output_type": "stream",
          "name": "stdout",
          "text": [
            "Any True: True\n",
            "All True: False\n"
          ]
        }
      ]
    }
  ],
  "metadata": {
    "colab": {
      "name": "Welcome to Colab",
      "toc_visible": true,
      "provenance": [],
      "include_colab_link": true
    },
    "kernelspec": {
      "display_name": "Python 3",
      "name": "python3"
    }
  },
  "nbformat": 4,
  "nbformat_minor": 0
}